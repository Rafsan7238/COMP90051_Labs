{
 "cells": [
  {
   "cell_type": "markdown",
   "metadata": {
    "id": "5zFoS3xPTQzl",
    "pycharm": {
     "name": "#%% md\n"
    }
   },
   "source": [
    "# COMP90051 Project 2\n",
    "\n",
    "**Copyright statement:** This notebook is copyright University of Melbourne. \n",
    "It is licensed for the sole purpose of your assessment in COMP90051. \n",
    "You are not permitted to share or publish derived versions of this notebook, other than with COMP90051 staff for assessment.\n",
    "\n",
    "***\n",
    "\n",
    "The code block below imports the namespaces/functions/classes you may use in the project. \n",
    "Additional imports are not permitted."
   ]
  },
  {
   "cell_type": "code",
   "execution_count": 1,
   "metadata": {
    "id": "DWLjrI_bTQzp",
    "pycharm": {
     "name": "#%%\n"
    }
   },
   "outputs": [],
   "source": [
    "# Do not edit. These are the only imports permitted.\n",
    "import numpy as np\n",
    "import matplotlib.pyplot as plt\n",
    "import seaborn as sns\n",
    "from numpy import ndarray\n",
    "from typing import List, Optional, Tuple, Callable\n",
    "import random\n",
    "import copy\n",
    "import tqdm\n",
    "from abc import ABC, abstractmethod\n",
    "sns.set_style('darkgrid')\n",
    "plt.rcParams['figure.dpi'] = 108\n",
    "RND_SEED = 90"
   ]
  },
  {
   "cell_type": "markdown",
   "metadata": {
    "id": "KtK9nsSWTQzq",
    "pycharm": {
     "name": "#%% md\n"
    }
   },
   "source": [
    "The base `SVM` class below defines a common interface for a support vector machine. \n",
    "Your implementations below for each task of the project should inherit from this class. Feel free to add to this class if you need."
   ]
  },
  {
   "cell_type": "code",
   "execution_count": 2,
   "metadata": {
    "id": "a2AGnQc4TQzr",
    "pycharm": {
     "name": "#%%\n"
    }
   },
   "outputs": [],
   "source": [
    "class SVM(ABC):\n",
    "    \"\"\"Base class for a support vector machine (SVM)\"\"\"\n",
    "    \n",
    "    def __init__(self) -> None:\n",
    "        pass\n",
    "        \n",
    "    @abstractmethod\n",
    "    def fit(self, X, y) -> None:        \n",
    "        \"\"\"Fit the model with the given training data.\n",
    "        \n",
    "        Parameters\n",
    "        ----------        \n",
    "        X : float numpy.ndarray, shape (n_samples, n_features)\n",
    "            An array of training instances. \n",
    "        y : int {-1,1} numpy.ndarray, shape (n_samples,)\n",
    "            Labels array relative to training instances.\n",
    "        -------\n",
    "        \"\"\"\n",
    "        # Check if X is a 2D array\n",
    "        if X.ndim != 2:\n",
    "            raise ValueError(\"X must be a 2D array with shape (n_samples, n_features).\")\n",
    "\n",
    "        # Check if y is a vector or a 2D array with a single column\n",
    "        if y.ndim == 2:\n",
    "            if y.shape[1] != 1:\n",
    "                raise ValueError(\"y must be a vector or a 2D array with a single column.\")\n",
    "        elif y.ndim != 1:\n",
    "            raise ValueError(\"y must be a vector or a 2D array with a single column.\")\n",
    "\n",
    "        # Check dimensions compatibility\n",
    "        if X.shape[0] != y.shape[0]:\n",
    "            raise ValueError(\"Number of samples in X and y must be the same.\")\n",
    "    \n",
    "    @abstractmethod\n",
    "    def predict(self, test_X) -> int:\n",
    "        \"\"\"Predict label for given test samples\n",
    "\n",
    "        Parameters\n",
    "        ----------        \n",
    "        test_X : float numpy.ndarray, shape (n_samples, n_features)\n",
    "            An array of test instances. \n",
    "\n",
    "        -------\n",
    "        Return \n",
    "        y : int {-1,1} numpy.ndarray, shape (n_samples,)\n",
    "            Predict labels array for test samples.\n",
    "        \"\"\"\n",
    "        \n",
    "    def evaluate(self, test_X, test_y) -> int:\n",
    "        \"\"\"Return the mean accuracy on the given test samples and labels.\n",
    "\n",
    "        Parameters\n",
    "        ----------        \n",
    "        test_X : float numpy.ndarray, shape (n_samples, n_features)\n",
    "            An array of test instances. \n",
    "        test_y : int {-1,1} numpy.ndarray, shape (n_samples,)\n",
    "            Labels array relative to training instances.\n",
    "        -------\n",
    "        Return : float, mean accuracy\n",
    "\n",
    "        \"\"\"\n",
    "            \n",
    "        pred_y = self.predict(test_X)\n",
    "        acc = (pred_y == test_y).sum() / len(test_y)\n",
    "        return acc\n",
    "    \n",
    "    def visualize(self, X, y) -> None:\n",
    "        \"\"\"Plot data and decision surface of fitted model. \n",
    "        This function is adapted from \n",
    "        https://stackoverflow.com/questions/51297423/plot-scikit-learn-sklearn-svm-decision-boundary-surface\n",
    "\n",
    "        Parameters\n",
    "        ----------        \n",
    "        X : float numpy.ndarray, shape (n_samples, n_features)\n",
    "            An array of instances. \n",
    "        y : int {-1,1} numpy.ndarray, shape (n_samples,)\n",
    "            Labels array relative to X.\n",
    "        -------\n",
    "        \"\"\"\n",
    "        y = np.array(y).squeeze()\n",
    "        X = np.array(X)\n",
    "        \n",
    "        assert X.ndim == 2, \"The shape of X must be (n_samples, n_features)\"\n",
    "        assert X.shape[0] == y.shape[0], \"Inconsistent number of instances and labels\"\n",
    "        assert set(y) == set([1,-1]), \"Labels must be 1 or -1\"\n",
    "        \n",
    "        def make_meshgrid(x, y, h=.02):\n",
    "            x_min, x_max = x.min() - 1, x.max() + 1\n",
    "            y_min, y_max = y.min() - 1, y.max() + 1\n",
    "            xx, yy = np.meshgrid(np.arange(x_min, x_max, h), np.arange(y_min, y_max, h))\n",
    "            return xx, yy\n",
    "\n",
    "        def plot_contours(ax, clf, xx, yy, **params):\n",
    "            Z = clf.predict(np.c_[xx.ravel(), yy.ravel()])\n",
    "            Z = Z.reshape(xx.shape)\n",
    "            out = ax.contourf(xx, yy, Z, **params)\n",
    "            return out\n",
    "        \n",
    "        fig, ax = plt.subplots()\n",
    "        title = ('Decision surface of SVM')\n",
    "        # Set-up grid for plotting.\n",
    "        X0, X1 = X[:, 0], X[:, 1]\n",
    "        xx, yy = make_meshgrid(X0, X1)\n",
    "\n",
    "        plot_contours(ax, self, xx, yy, cmap=plt.cm.Pastel1)\n",
    "        ax.scatter(X[y==-1,0], X[y==-1,1], color='b', label=\"$y = -1$\")\n",
    "        ax.scatter(X[y==1,0], X[y==1,1], color='r', label=\"$y = 1$\")\n",
    "\n",
    "        ax.set_ylabel('$x_1$')\n",
    "        ax.set_xlabel('$x_2$')\n",
    "        ax.set_xticks(())\n",
    "        ax.set_yticks(())\n",
    "        ax.set_title(title)\n",
    "        ax.legend()\n",
    "        plt.show()"
   ]
  },
  {
   "cell_type": "markdown",
   "metadata": {
    "id": "zrrak7iQTQzs",
    "pycharm": {
     "name": "#%% md\n"
    }
   },
   "source": [
    "### Binary classification data\n",
    "We will generate some toy binary classification data, re-using the code from workshop 4. This will be used for tasks 1-3."
   ]
  },
  {
   "cell_type": "code",
   "execution_count": 3,
   "metadata": {
    "id": "gTxReDklTQzt",
    "pycharm": {
     "name": "#%%\n"
    }
   },
   "outputs": [
    {
     "data": {
      "text/plain": "<Figure size 691.2x518.4 with 1 Axes>",
      "image/png": "[encoded data removed]"
     },
     "metadata": {},
     "output_type": "display_data"
    }
   ],
   "source": [
    "from sklearn.datasets import make_classification\n",
    "\n",
    "X, y = make_classification(n_samples = 30, n_features = 2, n_informative=2, n_redundant=0, random_state=RND_SEED)\n",
    "y = np.where(y <=0, -1, 1)\n",
    "X_b = np.column_stack((np.ones_like(y), X))\n",
    "\n",
    "plt.scatter(X[y==-1,0], X[y==-1,1], color='b', label=\"$y = -1$\")\n",
    "plt.scatter(X[y==1,0], X[y==1,1], color='r', label=\"$y = 1$\")\n",
    "plt.xlabel('$x_1$')\n",
    "plt.ylabel('$x_2$')\n",
    "plt.legend()\n",
    "plt.show()"
   ]
  },
  {
   "cell_type": "markdown",
   "metadata": {
    "id": "qSBvj08vTQzu",
    "pycharm": {
     "name": "#%% md\n"
    }
   },
   "source": [
    "## Task 1: Primal soft-margin SVM"
   ]
  },
  {
   "cell_type": "code",
   "execution_count": 4,
   "metadata": {
    "id": "LhmCIFtNTQzv",
    "outputId": "613ca0a6-04bf-4c7a-e9ae-e87e8632e761",
    "pycharm": {
     "name": "#%%\n"
    }
   },
   "outputs": [],
   "source": [
    "class PrimalSVM(SVM):\n",
    "    \"\"\"Soft-margin SVM fit using primal objective, training \n",
    "    with stochastic gradient ascent.\n",
    "\n",
    "    Parameters\n",
    "    ----------\n",
    "    eta : float\n",
    "        Learning rate.\n",
    "    lambda0: float\n",
    "        Regularisation term, must be strictly positive\n",
    "    \"\"\"\n",
    "    \n",
    "    def __init__(self, eta, lambda0) -> None:\n",
    "        super().__init__()\n",
    "        ## your code here\n",
    "        # Check if eta is a float or an int\n",
    "        if not isinstance(eta, (float, int)):\n",
    "            raise ValueError(\"eta must be a float or an int.\")\n",
    "\n",
    "        # Check if lambda0 is a float or an int\n",
    "        if not isinstance(lambda0, (float, int)):\n",
    "            raise ValueError(\"lambda0 must be a float or an int.\")\n",
    "\n",
    "        # Set the values of eta and lambda\n",
    "        self.eta = eta\n",
    "        self.lambda0 = lambda0\n",
    "\n",
    "        self.w = None  # Weight vector\n",
    "        self.b = None  # Bias term\n",
    "        ### end of your code ###\n",
    "        \n",
    "    def fit(self, X, y, iterations = 100) -> None:\n",
    "        super().fit(X=X,y=y)\n",
    "        ## your code here ###\n",
    "        # Get the shape of X\n",
    "        n_samples, n_features = X.shape\n",
    "\n",
    "        # Initialize weights w and bias b with very small values\n",
    "        self.w = np.repeat(0.001, n_features)\n",
    "        self.b = 0.001\n",
    "\n",
    "        # Stochastic gradient descent\n",
    "        # Run training over all training samples for specified iterations\n",
    "        for _ in range(iterations):\n",
    "            # Run inner loop over each instance in the training set\n",
    "            # Update parameters at each training step\n",
    "            for i in range(n_samples):\n",
    "                xi = X[i]  # Current training example\n",
    "                yi = y[i]  # Corresponding label\n",
    "\n",
    "                # Calculate the loss for the current example\n",
    "                # Find the hinge loss\n",
    "                hinge_loss = max(0, 1 - yi * (np.dot(self.w, xi) + self.b))\n",
    "                # Find the l2-norm of weight vector\n",
    "                l2_norm = np.linalg.norm(self.w)\n",
    "                # Add the L2 regularization term to the hinge loss to get the per instance loss\n",
    "                loss = hinge_loss + 0.5 * self.lambda0 * l2_norm\n",
    "\n",
    "                # Update parameters only if the loss is positive\n",
    "                if loss > 0:\n",
    "                    # Calculate the gradient of the loss with respect to w and b\n",
    "                    grad_w = (-yi * xi) + (0.5 * self.lambda0 * self.w / l2_norm)\n",
    "                    grad_b = -yi\n",
    "\n",
    "                    # Update w and b using the gradient and learning rate\n",
    "                    self.w -= self.eta * grad_w\n",
    "                    self.b -= self.eta * grad_b\n",
    "        ### end of your code ###\n",
    "        \n",
    "            \n",
    "    def predict(self, test_X) -> int: \n",
    "        super().predict(test_X = test_X)\n",
    "        ## your code here ###\n",
    "        # Check if the model has been trained\n",
    "        if self.w is None or self.b is None:\n",
    "            raise ValueError(\"Model not trained. Call fit method first.\")\n",
    "\n",
    "        # Check dimensions compatibility\n",
    "        if test_X.shape[1] != self.w.shape[0]:\n",
    "            raise ValueError(\"Number of features in test_X must match the number of features in the trained model.\")\n",
    "\n",
    "        # Use self.w and self.b to make predictions on test_X\n",
    "        pred_y = np.sign(np.dot(test_X, self.w) + self.b)\n",
    "        return pred_y\n",
    "        ### end of your code ###"
   ]
  },
  {
   "cell_type": "code",
   "execution_count": 5,
   "metadata": {
    "id": "kUOyat7BTQzw",
    "pycharm": {
     "name": "#%%\n"
    }
   },
   "outputs": [
    {
     "name": "stdout",
     "output_type": "stream",
     "text": [
      "Accuracy is 0.8\n"
     ]
    },
    {
     "data": {
      "text/plain": "<Figure size 691.2x518.4 with 1 Axes>",
      "image/png": "[encoded data removed]"
     },
     "metadata": {},
     "output_type": "display_data"
    }
   ],
   "source": [
    "# Initialize the PrimalSVM instance with eta = 0.1 and lambda0 = 0.1\n",
    "psvm = PrimalSVM(eta = 0.1, lambda0=0.1)\n",
    "\n",
    "# Train the SVM on the dataset\n",
    "psvm.fit(X,y, iterations = 100)\n",
    "\n",
    "# Print the training accuracy\n",
    "print(f\"Accuracy is {round(psvm.evaluate(X,y),4)}\")\n",
    "\n",
    "# Visualize the decision surface and dataset\n",
    "psvm.visualize(X,y)"
   ]
  },
  {
   "cell_type": "markdown",
   "metadata": {
    "id": "Ifa1T-Q4TQzx",
    "pycharm": {
     "name": "#%% md\n"
    }
   },
   "source": [
    "### Tuning lambda value"
   ]
  },
  {
   "cell_type": "code",
   "execution_count": 6,
   "metadata": {
    "id": "6c2O01kgTQzx",
    "pycharm": {
     "name": "#%%\n"
    }
   },
   "outputs": [
    {
     "data": {
      "text/plain": "<Figure size 864x540 with 1 Axes>",
      "image/png": "[encoded data removed]"
     },
     "metadata": {},
     "output_type": "display_data"
    },
    {
     "name": "stdout",
     "output_type": "stream",
     "text": [
      "Best Lambda: 0.001, Highest Accuracy: 0.8\n"
     ]
    }
   ],
   "source": [
    "# Use this cell for experimentation 1.b\n",
    "# Initialize the range of lambda values to test (in logarithmic space)\n",
    "lambda_values = np.logspace(-3, 3, num=7)\n",
    "\n",
    "# Initialize list to store accuracy scores\n",
    "accuracies = []\n",
    "\n",
    "# Instantiate the PrimalSVM with fixed hyperparameters\n",
    "eta = 0.1\n",
    "iterations = 100\n",
    "\n",
    "# Perform grid search\n",
    "for lambda0 in lambda_values:\n",
    "    psvm2 = PrimalSVM(eta=eta, lambda0=lambda0)\n",
    "    psvm2.fit(X, y, iterations=iterations)\n",
    "    accuracy = psvm2.evaluate(X, y)\n",
    "    accuracies.append(accuracy)\n",
    "\n",
    "# Plot the results\n",
    "plt.figure(figsize=(8, 5))\n",
    "plt.semilogx(lambda_values, accuracies, marker='o')\n",
    "plt.xlabel('Lambda (log scale)')\n",
    "plt.ylabel('Training Accuracy')\n",
    "plt.title('Effect of Lambda on Accuracy')\n",
    "plt.grid(True)\n",
    "plt.show()\n",
    "\n",
    "# Find the best lambda value\n",
    "best_lambda = lambda_values[np.argmax(accuracies)]\n",
    "print(f\"Best Lambda: {best_lambda}, Highest Accuracy: {max(accuracies)}\")"
   ]
  },
  {
   "cell_type": "markdown",
   "metadata": {
    "id": "vECMC_JLTQzy",
    "pycharm": {
     "name": "#%% md\n"
    }
   },
   "source": [
    "## Task 2: Dual soft-margin SVM"
   ]
  },
  {
   "cell_type": "code",
   "execution_count": null,
   "metadata": {
    "id": "VNLjRbT4TQzy",
    "pycharm": {
     "name": "#%%\n"
    }
   },
   "outputs": [],
   "source": [
    "class DualSVM(SVM):\n",
    "    \"\"\"Soft-margin SVM using dual formulation, training \n",
    "    with stochastic gradient ascent\n",
    "\n",
    "    Parameters\n",
    "    ----------\n",
    "    eta : float\n",
    "        Learning rate.\n",
    "    C: float\n",
    "        Regularization parameter.\n",
    "    kernel: Kernel\n",
    "        Kernel function\n",
    "    \"\"\"\n",
    "    \n",
    "    def __init__(self, eta, C, kernel = None):\n",
    "        super().__init__()\n",
    "        if kernel is None:\n",
    "            def dot_product(u,v):\n",
    "                return np.dot(u, v.T)\n",
    "            self.kernel = dot_product\n",
    "        else:\n",
    "            self.kernel = kernel\n",
    "            \n",
    "        ## your code here ###\n",
    "        ### end of your code ###\n",
    "    \n",
    "    def fit(self, X, y, iterations = 100):\n",
    "        \n",
    "        super().fit(X=X,y=y)\n",
    "        self.X = X\n",
    "        self.y = y\n",
    "        \n",
    "        ### your code here ###\n",
    "        self.alphas = ... # lagrange multipliers (sometimes denoted lambda), you should initialize with 0s\n",
    "        \n",
    "        ### end of your code ###\n",
    "        self.bias = self.get_bias()\n",
    "            \n",
    "        return \n",
    "     \n",
    "    def predict(self, test_X):\n",
    "        super().predict(test_X =test_X)\n",
    "        ### your code here ###\n",
    "        ### end of your code ###\n",
    "    \n",
    "    def primal_weights(self):\n",
    "        \"\"\"Compute weights based on alphas, assuming linear kernel\n",
    "        \"\"\"\n",
    "        ### your code here ###\n",
    "        ### end of your code ###\n",
    "        \n",
    "    def get_bias(self):\n",
    "        \"\"\"Compute bias based on learned alphas and training data set\n",
    "        \"\"\"\n",
    "        ### your code here ###\n",
    "        ### end of your code ###"
   ]
  },
  {
   "cell_type": "code",
   "execution_count": null,
   "metadata": {
    "id": "3BzkZq-pTQzz",
    "pycharm": {
     "name": "#%%\n"
    }
   },
   "outputs": [],
   "source": [
    "dsvm = DualSVM(eta = 0.1, C = 100)\n",
    "dsvm.fit(X,y, iterations = 100)\n",
    "print(f\"Accuracy is {round(dsvm.evaluate(X,y),4)}\")\n",
    "dsvm.visualize(X,y)"
   ]
  },
  {
   "cell_type": "markdown",
   "metadata": {
    "id": "7k0BwigQTQz0",
    "pycharm": {
     "name": "#%% md\n"
    }
   },
   "source": [
    "### Tuning C value"
   ]
  },
  {
   "cell_type": "code",
   "execution_count": null,
   "metadata": {
    "id": "-Srmy8iqTQz0",
    "pycharm": {
     "name": "#%%\n"
    }
   },
   "outputs": [],
   "source": [
    "# Use this cell here for experimentation 2.a"
   ]
  },
  {
   "cell_type": "markdown",
   "metadata": {
    "id": "iUgJXTtkTQz1",
    "pycharm": {
     "name": "#%% md\n"
    }
   },
   "source": [
    "### Compare weights between primal and dual"
   ]
  },
  {
   "cell_type": "code",
   "execution_count": null,
   "metadata": {
    "id": "Kqci-HzBTQz1",
    "pycharm": {
     "name": "#%%\n"
    }
   },
   "outputs": [],
   "source": [
    "# Use this cell here for experimentation 2.b"
   ]
  },
  {
   "cell_type": "markdown",
   "metadata": {
    "id": "ldjRwqnxfuyi",
    "pycharm": {
     "name": "#%% md\n"
    }
   },
   "source": [
    "### Identify support vectors and points where alpha=C"
   ]
  },
  {
   "cell_type": "code",
   "execution_count": null,
   "metadata": {
    "id": "RR1V8TgFfvkf",
    "pycharm": {
     "name": "#%%\n"
    }
   },
   "outputs": [],
   "source": [
    "# Use this cell here for experimentation 2.c"
   ]
  },
  {
   "cell_type": "markdown",
   "metadata": {
    "id": "aMqqnJaATQz1",
    "pycharm": {
     "name": "#%% md\n"
    }
   },
   "source": [
    "## Task 3: Kernel"
   ]
  },
  {
   "cell_type": "code",
   "execution_count": 7,
   "metadata": {
    "id": "wNmMdmhfTQz1",
    "pycharm": {
     "name": "#%%\n"
    }
   },
   "outputs": [],
   "source": [
    "from numpy.linalg import norm\n",
    "\n",
    "    \n",
    "class Kernel():\n",
    "    \"\"\"Kernel class\n",
    "\n",
    "    Parameters\n",
    "    ----------\n",
    "    kernel_type : str {linear, poly, rbf}\n",
    "        Type of kernel be indicated.\n",
    "    poly_degree: int\n",
    "        Polynomial degree for polynormial kernel. \n",
    "    poly_offset: float\n",
    "        Polynomial offset for polynomial kernel. \n",
    "    rbf_sigma: float\n",
    "        Kernel coefficient for rbf kernel. \n",
    "    \"\"\"\n",
    "    \n",
    "    def __init__(self, kernel_type = None, **kwargs):\n",
    "        if kernel_type == \"linear\":\n",
    "            self.kernel = self.linear_kernel\n",
    "        if kernel_type == \"poly\":\n",
    "            self.degree = kwargs.get('poly_degree')\n",
    "            self.sigma = kwargs.get('poly_offset')\n",
    "            self.kernel = self.poly_kernel\n",
    "        if kernel_type == \"rbf\":\n",
    "            self.sigma = kwargs.get('rbf_sigma')\n",
    "            self.kernel = self.rbf_kernel\n",
    "            \n",
    "    def __call__(self,u,v):\n",
    "        \"\"\"Evaluate the kernel on a pair of inputs, possibly batched.\n",
    "        Matrix input is comprised of instances as row vectors.\n",
    "\n",
    "        Parameters\n",
    "        ----------\n",
    "        u: vector or matrix\n",
    "            first instance(s), shape (n,) or (m,n)\n",
    "        v: vector or matrix\n",
    "            second instance(s), shape (n,) or (z,n)\n",
    "        \n",
    "        -------\n",
    "        Return : Kernel matrix, float or shape(z,) or shape (m,z)\n",
    "\n",
    "        \"\"\"\n",
    "        return self.kernel(u, v)\n",
    "        \n",
    "    def linear_kernel(self, u, v):\n",
    "        return np.dot(u,v.T)\n",
    "\n",
    "    def poly_kernel(self, u, v):\n",
    "        ### your code here ###\n",
    "        # Ensure that u and v are matrices (instances as row vectors)\n",
    "        if u.ndim == 1:\n",
    "            u = u.reshape(1, -1)\n",
    "        if v.ndim == 1:\n",
    "            v = v.reshape(1, -1)\n",
    "\n",
    "        # Compute the polynomial kernel with the specified degree and offset\n",
    "        return (np.dot(u, v.T) + self.offset) ** self.degree\n",
    "        ### end of your code ###\n",
    "\n",
    "    def rbf_kernel(self, u, v):\n",
    "        ### your code here ###\n",
    "        # Ensure that u and v are matrices (instances as row vectors)\n",
    "        if u.ndim == 1:\n",
    "            u = u.reshape(1, -1)\n",
    "        if v.ndim == 1:\n",
    "            v = v.reshape(1, -1)\n",
    "\n",
    "        # Calculate the squared-norm of u-v\n",
    "        norm_squared = np.sum((u[:, np.newaxis] - v) ** 2, axis=-1)\n",
    "        # Compute the RBF kernel with the specified sigma\n",
    "        return np.exp(-norm_squared / (2 * self.sigma ** 2))\n",
    "        ### end of your code ###"
   ]
  },
  {
   "cell_type": "markdown",
   "metadata": {
    "id": "A3oDvTw5TQz2",
    "pycharm": {
     "name": "#%% md\n"
    }
   },
   "source": [
    "### Test your kernel in the DualSVM"
   ]
  },
  {
   "cell_type": "code",
   "execution_count": null,
   "metadata": {
    "id": "9z-7gUahTQz2",
    "pycharm": {
     "name": "#%%\n"
    }
   },
   "outputs": [],
   "source": [
    "# Use this cell here for experimentation 3, e.g., \n",
    "# Create instances of the DualSVM with different kernels\n",
    "dsvm_linear = DualSVM(eta=0.1, C=100, kernel=Kernel('linear'))\n",
    "dsvm_poly = DualSVM(eta=0.1, C=100, kernel=Kernel('poly', poly_degree=2, poly_offset=1))\n",
    "dsvm_rbf = DualSVM(eta=0.1, C=100, kernel=Kernel('rbf', rbf_sigma=1))\n",
    "\n",
    "# Fit the models to the dataset\n",
    "dsvm_linear.fit(X, y, iterations=100)\n",
    "dsvm_poly.fit(X, y, iterations=100)\n",
    "dsvm_rbf.fit(X, y, iterations=100)\n",
    "\n",
    "# Print the accuracies\n",
    "acc_linear = dsvm_linear.evaluate(X, y)\n",
    "acc_poly = dsvm_poly.evaluate(X, y)\n",
    "acc_rbf = dsvm_rbf.evaluate(X, y)\n",
    "\n",
    "print(f\"Accuracy (Linear Kernel): {round(acc_linear, 4)}\")\n",
    "print(f\"Accuracy (Polynomial Kernel): {round(acc_poly, 4)}\")\n",
    "print(f\"Accuracy (RBF Kernel): {round(acc_rbf, 4)}\")\n",
    "\n",
    "# Visualize the decision boundaries for each kernel\n",
    "dsvm_linear.visualize(X, y)\n",
    "dsvm_poly.visualize(X, y)\n",
    "dsvm_rbf.visualize(X, y)"
   ]
  },
  {
   "cell_type": "markdown",
   "source": [
    "[In a few sentences, explain which kernel you think is best suited to this problem, and why.]"
   ],
   "metadata": {
    "collapsed": false,
    "pycharm": {
     "name": "#%% md\n"
    }
   }
  }
 ],
 "metadata": {
  "colab": {
   "collapsed_sections": [],
   "name": "project2-svm.ipynb",
   "provenance": []
  },
  "kernelspec": {
   "display_name": "Python 3",
   "language": "python",
   "name": "python3"
  },
  "language_info": {
   "codemirror_mode": {
    "name": "ipython",
    "version": 3
   },
   "file_extension": ".py",
   "mimetype": "text/x-python",
   "name": "python",
   "nbconvert_exporter": "python",
   "pygments_lexer": "ipython3",
   "version": "3.7.3"
  }
 },
 "nbformat": 4,
 "nbformat_minor": 4
}