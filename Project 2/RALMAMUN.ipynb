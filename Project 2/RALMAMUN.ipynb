{
 "cells": [
  {
   "cell_type": "markdown",
   "metadata": {
    "id": "5zFoS3xPTQzl",
    "pycharm": {
     "name": "#%% md\n"
    }
   },
   "source": [
    "# COMP90051 Project 2\n",
    "\n",
    "**Copyright statement:** This notebook is copyright University of Melbourne. \n",
    "It is licensed for the sole purpose of your assessment in COMP90051. \n",
    "You are not permitted to share or publish derived versions of this notebook, other than with COMP90051 staff for assessment.\n",
    "\n",
    "***\n",
    "\n",
    "The code block below imports the namespaces/functions/classes you may use in the project. \n",
    "Additional imports are not permitted."
   ]
  },
  {
   "cell_type": "code",
   "execution_count": 1,
   "metadata": {
    "id": "DWLjrI_bTQzp",
    "pycharm": {
     "name": "#%%\n"
    }
   },
   "outputs": [],
   "source": [
    "# Do not edit. These are the only imports permitted.\n",
    "import numpy as np\n",
    "import matplotlib.pyplot as plt\n",
    "import seaborn as sns\n",
    "from numpy import ndarray\n",
    "from typing import List, Optional, Tuple, Callable\n",
    "import random\n",
    "import copy\n",
    "import tqdm\n",
    "from abc import ABC, abstractmethod\n",
    "sns.set_style('darkgrid')\n",
    "plt.rcParams['figure.dpi'] = 108\n",
    "RND_SEED = 90"
   ]
  },
  {
   "cell_type": "markdown",
   "metadata": {
    "id": "KtK9nsSWTQzq",
    "pycharm": {
     "name": "#%% md\n"
    }
   },
   "source": [
    "The base `SVM` class below defines a common interface for a support vector machine. \n",
    "Your implementations below for each task of the project should inherit from this class. Feel free to add to this class if you need."
   ]
  },
  {
   "cell_type": "code",
   "execution_count": 2,
   "outputs": [],
   "source": [
    "class SVM(ABC):\n",
    "    \"\"\"Base class for a support vector machine (SVM)\"\"\"\n",
    "    \n",
    "    def __init__(self) -> None:\n",
    "        pass\n",
    "        \n",
    "    @abstractmethod\n",
    "    def fit(self, X, y) -> None:        \n",
    "        \"\"\"Fit the model with the given training data.\n",
    "        \n",
    "        Parameters\n",
    "        ----------        \n",
    "        X : float numpy.ndarray, shape (n_samples, n_features)\n",
    "            An array of training instances. \n",
    "        y : int {-1,1} numpy.ndarray, shape (n_samples,)\n",
    "            Labels array relative to training instances.\n",
    "        -------\n",
    "        \"\"\"\n",
    "        # Check if X and y are numpy.ndarray\n",
    "        if not isinstance(X, np.ndarray):\n",
    "            raise ValueError(\"X must be a numpy.ndarray\")\n",
    "\n",
    "        if not isinstance(y, np.ndarray):\n",
    "            raise ValueError(\"X must be a numpy.ndarray\")\n",
    "\n",
    "        # Check if the X's data type is float\n",
    "        if X.dtype != float:\n",
    "            raise ValueError(\"Values in X must have a data type of float\")\n",
    "\n",
    "        # Check if the y's data type is int\n",
    "        if y.dtype != int:\n",
    "            raise ValueError(\"Values in y must have a data type of int and be either -1 or 1\")\n",
    "\n",
    "        # Check if X is a 2D array\n",
    "        if X.ndim != 2:\n",
    "            raise ValueError(\"X must be a 2D array with shape (n_samples, n_features).\")\n",
    "\n",
    "        # Check if y is a vector or a 2D array with a single column\n",
    "        if y.ndim == 2:\n",
    "            if y.shape[1] != 1:\n",
    "                raise ValueError(\"y must be a vector or a 2D array with a single column.\")\n",
    "        elif y.ndim != 1:\n",
    "            raise ValueError(\"y must be a vector or a 2D array with a single column.\")\n",
    "\n",
    "        # Check dimensions compatibility\n",
    "        if X.shape[0] != y.shape[0]:\n",
    "            raise ValueError(\"Number of samples in X and y must be the same.\")\n",
    "    \n",
    "    @abstractmethod\n",
    "    def predict(self, test_X) -> int:\n",
    "        \"\"\"Predict label for given test samples\n",
    "\n",
    "        Parameters\n",
    "        ----------        \n",
    "        test_X : float numpy.ndarray, shape (n_samples, n_features)\n",
    "            An array of test instances. \n",
    "\n",
    "        -------\n",
    "        Return \n",
    "        y : int {-1,1} numpy.ndarray, shape (n_samples,)\n",
    "            Predict labels array for test samples.\n",
    "        \"\"\"\n",
    "        # Check if test_X is a numpy.ndarray\n",
    "        if not isinstance(test_X, np.ndarray):\n",
    "            raise ValueError(\"test_X must be a numpy.ndarray\")\n",
    "\n",
    "        # Check if the input data type is float\n",
    "        if test_X.dtype != float:\n",
    "            raise ValueError(\"Values in test_X must have a data type of float\")\n",
    "\n",
    "        # Check if test_X is a 2D array\n",
    "        if test_X.ndim != 2:\n",
    "            raise ValueError(\"Test dataset must be a 2D array with shape (n_samples, n_features).\")\n",
    "        \n",
    "    def evaluate(self, test_X, test_y) -> int:\n",
    "        \"\"\"Return the mean accuracy on the given test samples and labels.\n",
    "\n",
    "        Parameters\n",
    "        ----------        \n",
    "        test_X : float numpy.ndarray, shape (n_samples, n_features)\n",
    "            An array of test instances. \n",
    "        test_y : int {-1,1} numpy.ndarray, shape (n_samples,)\n",
    "            Labels array relative to training instances.\n",
    "        -------\n",
    "        Return : float, mean accuracy\n",
    "\n",
    "        \"\"\"\n",
    "            \n",
    "        pred_y = self.predict(test_X)\n",
    "        acc = (pred_y == test_y).sum() / len(test_y)\n",
    "        return acc\n",
    "    \n",
    "    def visualize(self, X, y) -> None:\n",
    "        \"\"\"Plot data and decision surface of fitted model. \n",
    "        This function is adapted from \n",
    "        https://stackoverflow.com/questions/51297423/plot-scikit-learn-sklearn-svm-decision-boundary-surface\n",
    "\n",
    "        Parameters\n",
    "        ----------        \n",
    "        X : float numpy.ndarray, shape (n_samples, n_features)\n",
    "            An array of instances. \n",
    "        y : int {-1,1} numpy.ndarray, shape (n_samples,)\n",
    "            Labels array relative to X.\n",
    "        -------\n",
    "        \"\"\"\n",
    "        y = np.array(y).squeeze()\n",
    "        X = np.array(X)\n",
    "        \n",
    "        assert X.ndim == 2, \"The shape of X must be (n_samples, n_features)\"\n",
    "        assert X.shape[0] == y.shape[0], \"Inconsistent number of instances and labels\"\n",
    "        assert set(y) == set([1,-1]), \"Labels must be 1 or -1\"\n",
    "        \n",
    "        def make_meshgrid(x, y, h=.02):\n",
    "            x_min, x_max = x.min() - 1, x.max() + 1\n",
    "            y_min, y_max = y.min() - 1, y.max() + 1\n",
    "            xx, yy = np.meshgrid(np.arange(x_min, x_max, h), np.arange(y_min, y_max, h))\n",
    "            return xx, yy\n",
    "\n",
    "        def plot_contours(ax, clf, xx, yy, **params):\n",
    "            Z = clf.predict(np.c_[xx.ravel(), yy.ravel()])\n",
    "            Z = Z.reshape(xx.shape)\n",
    "            out = ax.contourf(xx, yy, Z, **params)\n",
    "            return out\n",
    "        \n",
    "        fig, ax = plt.subplots()\n",
    "        title = ('Decision surface of SVM')\n",
    "        # Set-up grid for plotting.\n",
    "        X0, X1 = X[:, 0], X[:, 1]\n",
    "        xx, yy = make_meshgrid(X0, X1)\n",
    "\n",
    "        plot_contours(ax, self, xx, yy, cmap=plt.cm.Pastel1)\n",
    "        ax.scatter(X[y==-1,0], X[y==-1,1], color='b', label=\"$y = -1$\")\n",
    "        ax.scatter(X[y==1,0], X[y==1,1], color='r', label=\"$y = 1$\")\n",
    "\n",
    "        ax.set_ylabel('$x_1$')\n",
    "        ax.set_xlabel('$x_2$')\n",
    "        ax.set_xticks(())\n",
    "        ax.set_yticks(())\n",
    "        ax.set_title(title)\n",
    "        ax.legend()\n",
    "        plt.show()"
   ],
   "metadata": {
    "collapsed": false,
    "pycharm": {
     "name": "#%%\n"
    }
   }
  },
  {
   "cell_type": "markdown",
   "source": [
    "### Binary classification data\n",
    "We will generate some toy binary classification data, re-using the code from workshop 4. This will be used for tasks 1-3."
   ],
   "metadata": {
    "collapsed": false,
    "pycharm": {
     "name": "#%% md\n"
    }
   }
  },
  {
   "cell_type": "code",
   "execution_count": 3,
   "outputs": [
    {
     "data": {
      "text/plain": "<Figure size 691.2x518.4 with 1 Axes>",
      "image/png": "[encoded data removed]"
     },
     "metadata": {},
     "output_type": "display_data"
    }
   ],
   "source": [
    "from sklearn.datasets import make_classification\n",
    "\n",
    "X, y = make_classification(n_samples = 30, n_features = 2, n_informative=2, n_redundant=0, random_state=RND_SEED)\n",
    "y = np.where(y <=0, -1, 1)\n",
    "X_b = np.column_stack((np.ones_like(y), X))\n",
    "\n",
    "plt.scatter(X[y==-1,0], X[y==-1,1], color='b', label=\"$y = -1$\")\n",
    "plt.scatter(X[y==1,0], X[y==1,1], color='r', label=\"$y = 1$\")\n",
    "plt.xlabel('$x_1$')\n",
    "plt.ylabel('$x_2$')\n",
    "plt.legend()\n",
    "plt.show()"
   ],
   "metadata": {
    "collapsed": false,
    "pycharm": {
     "name": "#%%\n"
    }
   }
  },
  {
   "cell_type": "markdown",
   "source": [
    "## Task 1: Primal soft-margin SVM"
   ],
   "metadata": {
    "collapsed": false,
    "pycharm": {
     "name": "#%% md\n"
    }
   }
  },
  {
   "cell_type": "code",
   "execution_count": 4,
   "outputs": [],
   "source": [
    "class PrimalSVM(SVM):\n",
    "    \"\"\"Soft-margin SVM fit using primal objective, training \n",
    "    with stochastic gradient ascent.\n",
    "\n",
    "    Parameters\n",
    "    ----------\n",
    "    eta : float\n",
    "        Learning rate.\n",
    "    lambda0: float\n",
    "        Regularisation term, must be strictly positive\n",
    "    \"\"\"\n",
    "    \n",
    "    def __init__(self, eta, lambda0) -> None:\n",
    "        super().__init__()\n",
    "        ## your code here\n",
    "        # Check if eta is a float/int and positive\n",
    "        if not isinstance(eta, (float, int)) or eta <= 0:\n",
    "            raise ValueError(\"eta must be a positive float or an int.\")\n",
    "\n",
    "        # Check if lambda0 is a float/int and strictly positive\n",
    "        if not isinstance(lambda0, (float, int)) or lambda0 <= 0:\n",
    "            raise ValueError(\"lambda0 must be a positive float or an int.\")\n",
    "\n",
    "        # Set the values of eta and lambda\n",
    "        self.eta = eta\n",
    "        self.lambda0 = lambda0\n",
    "\n",
    "        self.w = None  # Weight vector\n",
    "        self.b = None  # Bias term\n",
    "        ### end of your code ###\n",
    "        \n",
    "    def fit(self, X, y, iterations = 100) -> None:\n",
    "        super().fit(X=X,y=y)\n",
    "        ## your code here ###\n",
    "        self.X, self.y = X, y\n",
    "\n",
    "        # Check if iterations is valid\n",
    "        if not isinstance(iterations, int) or iterations <= 0:\n",
    "            raise ValueError(\"iterations must be a positive integer.\")\n",
    "\n",
    "        # Get the shape of X\n",
    "        n_samples, n_features = X.shape\n",
    "\n",
    "        # Initialize weights w and bias b with 0\n",
    "        self.w = np.zeros(n_features)\n",
    "        self.b = 0\n",
    "\n",
    "        # Stochastic gradient descent\n",
    "        # Run training over all training samples for specified iterations\n",
    "        for _ in range(iterations):\n",
    "            # Run inner loop over each instance in the training set\n",
    "            # Update parameters at each training step\n",
    "            for i in range(n_samples):\n",
    "\n",
    "                '''\n",
    "                Weight and bias update rule:\n",
    "                hinge_loss_i = max(0, 1 - yi(w'x + b))\n",
    "\n",
    "                If hinge_loss_i > 0 (the prediction is wrong) then use both the gradients of hinge_loss and l2-regularisation to update weights and bias.\n",
    "                Otherwise, only use the gradient of l2-regularisation.\n",
    "\n",
    "                w = w - eta{lambda0 * w ; hinge_loss <= 0\n",
    "                            lambda0 * w - yi * xi ; otherwise\n",
    "\n",
    "                b = b - eta{0 ; hinge_loss <= 0\n",
    "                            -yi ; otherwise\n",
    "                '''\n",
    "\n",
    "                # Find the hinge loss\n",
    "                hinge_loss = max(0, 1 - self.y[i] * self.__make_predictions(self.X[i]))\n",
    "\n",
    "                # Initialise the gradient update of w and b\n",
    "                grad_w = self.lambda0 * self.w\n",
    "                grad_b = 0\n",
    "\n",
    "                # Check if hinge_loss > 0 (wrong prediction) and change gradient update according to the rule above\n",
    "                if hinge_loss > 0:\n",
    "                    grad_w += (-self.y[i] * self.X[i])\n",
    "                    grad_b = -self.y[i]\n",
    "\n",
    "                # Update weight and bias terms using the gradient and learning rate\n",
    "                self.w -= self.eta * grad_w\n",
    "                self.b -= self.eta * grad_b\n",
    "\n",
    "        return\n",
    "        ### end of your code ###\n",
    "        \n",
    "            \n",
    "    def predict(self, test_X) -> int: \n",
    "        super().predict(test_X = test_X)\n",
    "        ## your code here ###\n",
    "        # Check if the model has been trained\n",
    "        if self.w is None or self.b is None:\n",
    "            raise ValueError(\"Model not trained. Call fit method first.\")\n",
    "\n",
    "        # Check dimensions compatibility\n",
    "        if test_X.shape[1] != self.w.shape[0]:\n",
    "            raise ValueError(\"Number of features in test_X must match the number of features in the trained model.\")\n",
    "\n",
    "        # Make predictions on test_X\n",
    "        pred_y = np.sign(self.__make_predictions(test_X))\n",
    "        return pred_y\n",
    "\n",
    "    def __make_predictions(self, x):\n",
    "        \"\"\"Make a prediction using self.w and self.b on a design matrix.\n",
    "        Matrix input comprises instances as row vectors.\n",
    "        Private method.\n",
    "\n",
    "        Parameters\n",
    "        ----------\n",
    "        x: vector or matrix\n",
    "            design matrix of features with shape (n_samples, n_features) or row vector (n_features,)\n",
    "\n",
    "        -------\n",
    "        Return : Computed prediction as vector with shape (n_samples, ) or float\n",
    "\n",
    "        \"\"\"\n",
    "        # Use self.w and self.b to make predictions on x\n",
    "        pred = np.dot(x, self.w.T) + self.b\n",
    "        return pred\n",
    "\n",
    "        ### end of your code ###"
   ],
   "metadata": {
    "collapsed": false,
    "pycharm": {
     "name": "#%%\n"
    }
   }
  },
  {
   "cell_type": "code",
   "execution_count": 5,
   "outputs": [
    {
     "name": "stdout",
     "output_type": "stream",
     "text": [
      "Accuracy is 0.9\n"
     ]
    },
    {
     "data": {
      "text/plain": "<Figure size 691.2x518.4 with 1 Axes>",
      "image/png": "[encoded data removed]"
     },
     "metadata": {},
     "output_type": "display_data"
    }
   ],
   "source": [
    "# Initialize the PrimalSVM instance with eta = 0.1 and lambda0 = 0.1\n",
    "psvm = PrimalSVM(eta = 0.1, lambda0 = 0.1)\n",
    "\n",
    "# Train the SVM on the dataset\n",
    "psvm.fit(X,y, iterations = 100)\n",
    "\n",
    "# Print the training accuracy\n",
    "print(f\"Accuracy is {round(psvm.evaluate(X,y),4)}\")\n",
    "\n",
    "# Visualize the decision surface and dataset\n",
    "psvm.visualize(X,y)"
   ],
   "metadata": {
    "collapsed": false,
    "pycharm": {
     "name": "#%%\n"
    }
   }
  },
  {
   "cell_type": "markdown",
   "source": [
    "### Tuning lambda value"
   ],
   "metadata": {
    "collapsed": false,
    "pycharm": {
     "name": "#%% md\n"
    }
   }
  },
  {
   "cell_type": "code",
   "execution_count": 6,
   "outputs": [
    {
     "data": {
      "text/plain": "<Figure size 864x540 with 1 Axes>",
      "image/png": "[encoded data removed]"
     },
     "metadata": {},
     "output_type": "display_data"
    },
    {
     "name": "stdout",
     "output_type": "stream",
     "text": [
      "Best Lambda: 0.001, Highest Accuracy: 0.9667\n"
     ]
    }
   ],
   "source": [
    "# Use this cell for experimentation 1.b\n",
    "# Initialize the range of lambda values to test (in logarithmic space)\n",
    "lambda_values = np.logspace(-3, 1, num=5)\n",
    "\n",
    "# Initialize list to store accuracy scores\n",
    "accuracies = []\n",
    "\n",
    "# Instantiate the PrimalSVM with fixed hyperparameters\n",
    "eta = 0.1\n",
    "iterations = 100\n",
    "\n",
    "# Perform grid search\n",
    "for lambda0 in lambda_values:\n",
    "    psvm2 = PrimalSVM(eta=eta, lambda0=lambda0)\n",
    "    psvm2.fit(X, y, iterations=iterations)\n",
    "    accuracy = psvm2.evaluate(X, y)\n",
    "    accuracies.append(accuracy)\n",
    "\n",
    "# Plot the results\n",
    "plt.figure(figsize=(8, 5))\n",
    "plt.semilogx(lambda_values, accuracies, marker='o')\n",
    "plt.xlabel('Lambda (log scale)')\n",
    "plt.ylabel('Training Accuracy')\n",
    "plt.title('Effect of Lambda on Accuracy')\n",
    "plt.ylim([0.3, 1.0])\n",
    "plt.grid(True)\n",
    "plt.show()\n",
    "\n",
    "# Find the best lambda value\n",
    "best_lambda = lambda_values[np.argmax(accuracies)]\n",
    "print(f\"Best Lambda: {best_lambda}, Highest Accuracy: {round(max(accuracies), 4)}\")"
   ],
   "metadata": {
    "collapsed": false,
    "pycharm": {
     "name": "#%%\n"
    }
   }
  },
  {
   "cell_type": "markdown",
   "source": [
    "## Task 2: Dual soft-margin SVM"
   ],
   "metadata": {
    "collapsed": false,
    "pycharm": {
     "name": "#%% md\n"
    }
   }
  },
  {
   "cell_type": "code",
   "execution_count": 7,
   "outputs": [],
   "source": [
    "class DualSVM(SVM):\n",
    "    \"\"\"Soft-margin SVM using dual formulation, training \n",
    "    with stochastic gradient ascent\n",
    "\n",
    "    Parameters\n",
    "    ----------\n",
    "    eta : float\n",
    "        Learning rate.\n",
    "    C: float\n",
    "        Regularization parameter.\n",
    "    kernel: Kernel\n",
    "        Kernel function\n",
    "    \"\"\"\n",
    "    \n",
    "    def __init__(self, eta, C, kernel = None):\n",
    "        super().__init__()\n",
    "        if kernel is None:\n",
    "            def dot_product(u,v):\n",
    "                return np.dot(u, v.T)\n",
    "            self.kernel = dot_product\n",
    "        else:\n",
    "            self.kernel = kernel\n",
    "            \n",
    "        ## your code here ###\n",
    "        # Check if eta is a float/int and positive\n",
    "        if not isinstance(eta, (float, int)) or eta <= 0:\n",
    "            raise ValueError(\"eta must be a positive float or an int.\")\n",
    "\n",
    "        # Check if C is a float/int and strictly positive\n",
    "        if not isinstance(C, (float, int)) or C <= 0:\n",
    "            raise ValueError(\"C must be a positive float or an int.\")\n",
    "\n",
    "        # Set the values of eta and lambda\n",
    "        self.eta = eta\n",
    "        self.C = C\n",
    "\n",
    "        self.alphas = None  # Alpha vector\n",
    "        self.bias = None  # Bias term\n",
    "        ### end of your code ###\n",
    "    \n",
    "    def fit(self, X, y, iterations = 100):\n",
    "        \n",
    "        super().fit(X=X,y=y)\n",
    "        self.X = X\n",
    "        self.y = y\n",
    "        \n",
    "        ### your code here ###\n",
    "        # Get the shape of X\n",
    "        n_samples, n_features = X.shape\n",
    "\n",
    "        # Initialize lagrange multipliers (alphas) with zeros\n",
    "        self.alphas = np.zeros(n_samples)\n",
    "\n",
    "        # Stochastic gradient ascent training loop\n",
    "        for _ in range(iterations):\n",
    "            # Update alphas for each sample\n",
    "            for i in range(n_samples):\n",
    "                # Calculate the margin\n",
    "                margin = self.__calculate_margin(x=[self.X[i], self.X])\n",
    "\n",
    "                # Update alpha_i\n",
    "                update = self.eta * (1 - self.y[i] * margin)\n",
    "                self.alphas[i] = min(self.C, max(0, self.alphas[i] + update))\n",
    "        ### end of your code ###\n",
    "        # Compute the bias\n",
    "        self.bias = self.get_bias()\n",
    "\n",
    "        return \n",
    "     \n",
    "    def predict(self, test_X):\n",
    "        super().predict(test_X=test_X)\n",
    "        ### your code here ###\n",
    "        # Check if the model has been trained\n",
    "        self.__check_trained()\n",
    "\n",
    "        # Check dimensions compatibility\n",
    "        if test_X.shape[1] != self.X.shape[1]:\n",
    "            raise ValueError(\"Number of features in test_X must match the number of features in the trained model.\")\n",
    "\n",
    "        # Calculate predictions using learned alphas\n",
    "        preds = np.sign(self.bias + self.__calculate_margin(x=[test_X, self.X], axis=1))\n",
    "\n",
    "        return preds\n",
    "        ### end of your code ###\n",
    "    \n",
    "    def primal_weights(self):\n",
    "        \"\"\"Compute weights based on alphas, assuming linear kernel\n",
    "        \"\"\"\n",
    "        ### your code here ###\n",
    "        # Check if the model has been trained\n",
    "        self.__check_trained()\n",
    "\n",
    "        # Calculate primal weights based on learned alphas\n",
    "        primal_w = np.sum(self.alphas.reshape(-1, 1) * self.y.reshape(-1, 1) * self.X, axis=0)\n",
    "        return primal_w\n",
    "        ### end of your code ###\n",
    "        \n",
    "    def get_bias(self):\n",
    "        \"\"\"Compute bias based on learned alphas and training data set\n",
    "        \"\"\"\n",
    "        ### your code here ###\n",
    "        # Check if the model has been trained\n",
    "        self.__check_trained()\n",
    "\n",
    "        # Initialize an empty list to store the candidate biases\n",
    "        candidate_biases = []\n",
    "\n",
    "        # Iterate through all the alphas\n",
    "        for i in range(len(self.alphas)):\n",
    "            # Check if the alpha meet the conditions of a candidate\n",
    "            if 0 < self.alphas[i] < self.C:\n",
    "                # Calculate the candidate bias for the i-th alpha and append to list\n",
    "                candidate_b = self.y[i] - self.__calculate_margin(x=[self.X[i], self.X])\n",
    "                candidate_biases.append(candidate_b)\n",
    "\n",
    "        # Return 0 if no candidates\n",
    "        if not candidate_biases:\n",
    "            return 0\n",
    "\n",
    "        # Calculate the final bias as the average of candidate biases\n",
    "        bias = np.mean(candidate_biases)\n",
    "        return bias\n",
    "\n",
    "    def __check_trained(self):\n",
    "        \"\"\"\n",
    "        Checks whether the SVM has been trained before performing predict, primal_weights and get_bias\n",
    "\n",
    "        Raise : Value Error if subsequent methods are called before calling fit on the model\n",
    "        \"\"\"\n",
    "        # Check if the model has been trained\n",
    "        if self.alphas is None:\n",
    "            raise ValueError(\"Model not trained. Call fit method first.\")\n",
    "\n",
    "    def __calculate_margin(self, x, axis=None):\n",
    "        \"\"\"Calculate the kernelised margin used by fit and predict methods.\n",
    "        Private method.\n",
    "\n",
    "        Parameters\n",
    "        ----------\n",
    "        x: list\n",
    "            contains [u,v] to be used to evaluate the kernel\n",
    "\n",
    "        axis: int\n",
    "            axis along which to perform summation\n",
    "        -------\n",
    "        Return : Computed dual margin\n",
    "        \"\"\"\n",
    "        # Calculate the margin\n",
    "        margin = np.sum(self.alphas.reshape(1,-1) * self.y.reshape(1,-1) * self.kernel(x[0], x[1]), axis=axis)\n",
    "        return margin\n",
    "\n",
    "        ### end of your code ###"
   ],
   "metadata": {
    "collapsed": false,
    "pycharm": {
     "name": "#%%\n"
    }
   }
  },
  {
   "cell_type": "code",
   "execution_count": 8,
   "outputs": [
    {
     "name": "stdout",
     "output_type": "stream",
     "text": [
      "Accuracy is 0.9667\n"
     ]
    },
    {
     "data": {
      "text/plain": "<Figure size 691.2x518.4 with 1 Axes>",
      "image/png": "[encoded data removed]"
     },
     "metadata": {},
     "output_type": "display_data"
    }
   ],
   "source": [
    "# Initialize the DualSVM instance with eta = 0.1 and C = 100\n",
    "dsvm = DualSVM(eta = 0.1, C = 100)\n",
    "\n",
    "# Train the SVM on the dataset\n",
    "dsvm.fit(X,y, iterations = 100)\n",
    "\n",
    "# Print the training accuracy\n",
    "print(f\"Accuracy is {round(dsvm.evaluate(X,y),4)}\")\n",
    "\n",
    "# Visualize the decision surface and dataset\n",
    "dsvm.visualize(X,y)"
   ],
   "metadata": {
    "collapsed": false,
    "pycharm": {
     "name": "#%%\n"
    }
   }
  },
  {
   "cell_type": "markdown",
   "source": [
    "### Tuning C value"
   ],
   "metadata": {
    "collapsed": false,
    "pycharm": {
     "name": "#%% md\n"
    }
   }
  },
  {
   "cell_type": "code",
   "execution_count": 9,
   "outputs": [
    {
     "data": {
      "text/plain": "<Figure size 864x540 with 1 Axes>",
      "image/png": "[encoded data removed]"
     },
     "metadata": {},
     "output_type": "display_data"
    },
    {
     "name": "stdout",
     "output_type": "stream",
     "text": [
      "Best C: 100.0, Highest Accuracy: 0.9667\n"
     ]
    }
   ],
   "source": [
    "# Use this cell here for experimentation 2.a\n",
    "# Initialize the range of C values to test (in logarithmic space)\n",
    "C_values = np.logspace(-3, 3, num=7)\n",
    "\n",
    "# Initialize list to store accuracy scores\n",
    "accuracies = []\n",
    "\n",
    "# Instantiate the DualSVM with fixed hyperparameters\n",
    "eta = 0.1\n",
    "iterations = 100\n",
    "\n",
    "# Perform grid search\n",
    "for C in C_values:\n",
    "    dsvm = DualSVM(eta=eta, C=C)\n",
    "    dsvm.fit(X, y, iterations=iterations)\n",
    "    accuracy = dsvm.evaluate(X, y)\n",
    "    accuracies.append(accuracy)\n",
    "\n",
    "# Plot the results\n",
    "plt.figure(figsize=(8, 5))\n",
    "plt.semilogx(C_values, accuracies, marker='o')\n",
    "plt.xlabel('C (log scale)')\n",
    "plt.ylabel('Training Accuracy')\n",
    "plt.title('Effect of C on Accuracy')\n",
    "plt.ylim([0.7, 1.0])\n",
    "plt.grid(True)\n",
    "plt.show()\n",
    "\n",
    "# Find the best lambda value\n",
    "best_C = C_values[np.argmax(accuracies)]\n",
    "print(f\"Best C: {best_C}, Highest Accuracy: {round(max(accuracies),4)}\")"
   ],
   "metadata": {
    "collapsed": false,
    "pycharm": {
     "name": "#%%\n"
    }
   }
  },
  {
   "cell_type": "markdown",
   "source": [
    "### Compare weights between primal and dual"
   ],
   "metadata": {
    "collapsed": false,
    "pycharm": {
     "name": "#%% md\n"
    }
   }
  },
  {
   "cell_type": "code",
   "execution_count": 10,
   "outputs": [
    {
     "name": "stdout",
     "output_type": "stream",
     "text": [
      "Norm of the difference between dual and primal weights: 1.4402\n"
     ]
    }
   ],
   "source": [
    "# Use this cell here for experimentation 2.b\n",
    "# Train the DualSVM model with specified hyperparameters\n",
    "dsvm = DualSVM(eta=0.1, C=100)\n",
    "dsvm.fit(X, y, iterations=100)\n",
    "\n",
    "# Compute the equivalent primal weights from the DualSVM\n",
    "dual_weights = dsvm.primal_weights()\n",
    "\n",
    "# Train a PrimalSVM model with equivalent hyperparameters\n",
    "'''\n",
    "lambda and C are inversely proportional such that lambda = 1/C.\n",
    "In PrimalSVM, lambda = 0.5 * lambda0; 1/C = lambda0/2\n",
    "An equivalent lambda0 value would then be 2/C.\n",
    "'''\n",
    "primal_lambda = 2 / dsvm.C\n",
    "psvm = PrimalSVM(eta=0.1, lambda0=primal_lambda)\n",
    "psvm.fit(X, y, iterations=100)\n",
    "\n",
    "# Compute the weights for the PrimalSVM\n",
    "primal_weights = psvm.w\n",
    "\n",
    "# Calculate the norm of the difference between dual and primal weights\n",
    "weight_difference_norm = np.linalg.norm(dual_weights - primal_weights)\n",
    "\n",
    "# Print the result\n",
    "print(f\"Norm of the difference between dual and primal weights: {round(weight_difference_norm,4)}\")"
   ],
   "metadata": {
    "collapsed": false,
    "pycharm": {
     "name": "#%%\n"
    }
   }
  },
  {
   "cell_type": "markdown",
   "source": [
    "### Identify support vectors and points where alpha=C"
   ],
   "metadata": {
    "collapsed": false,
    "pycharm": {
     "name": "#%% md\n"
    }
   }
  },
  {
   "cell_type": "code",
   "execution_count": 11,
   "outputs": [
    {
     "name": "stdout",
     "output_type": "stream",
     "text": [
      "Support Vectors:\n",
      "[ 0  2  3  6  7  8  9 10 16 18 20 22 23 24 26 29]\n",
      "\n",
      "Points where ɑ = C:\n",
      "[]\n"
     ]
    },
    {
     "data": {
      "text/plain": "<Figure size 691.2x518.4 with 1 Axes>",
      "image/png": "[encoded data removed]"
     },
     "metadata": {},
     "output_type": "display_data"
    }
   ],
   "source": [
    "# Use this cell here for experimentation 2.c\n",
    "# Train the DualSVM model with specified hyperparameters\n",
    "dsvm = DualSVM(eta=0.1, C=100)\n",
    "dsvm.fit(X, y, iterations=100)\n",
    "\n",
    "# Get the Lagrange multipliers (alphas)\n",
    "alphas = dsvm.alphas\n",
    "\n",
    "# Find the indices where alpha equals C (0 < alpha < C are support vectors)\n",
    "support_vector_indices = np.where((alphas > 0) & (alphas < dsvm.C))[0]\n",
    "alpha_c_indices = np.where(alphas == dsvm.C)[0]\n",
    "\n",
    "# Print the results\n",
    "print(\"Support Vectors:\")\n",
    "print(support_vector_indices)\n",
    "\n",
    "print(\"\\nPoints where ɑ = C:\")\n",
    "print(alpha_c_indices)\n",
    "\n",
    "# Create a scatter plot of the dataset\n",
    "plt.scatter(X[y == -1, 0], X[y == -1, 1], color='b', label=\"$y = -1$\")\n",
    "plt.scatter(X[y == 1, 0], X[y == 1, 1], color='r', label=\"$y = 1$\")\n",
    "\n",
    "# Highlight support vectors with a different marker\n",
    "plt.scatter(X[support_vector_indices, 0], X[support_vector_indices, 1], color='g', marker='o', s=50, label=\"Support Vectors\")\n",
    "\n",
    "# Highlight points where alpha = C with a different marker\n",
    "plt.scatter(X[alpha_c_indices, 0], X[alpha_c_indices, 1], color='y', marker='x', s=50, label=\"Alpha = C\")\n",
    "\n",
    "plt.xlabel('$x_1$')\n",
    "plt.ylabel('$x_2$')\n",
    "plt.legend()\n",
    "plt.show()"
   ],
   "metadata": {
    "collapsed": false,
    "pycharm": {
     "name": "#%%\n"
    }
   }
  },
  {
   "cell_type": "markdown",
   "source": [
    "## Task 3: Kernel"
   ],
   "metadata": {
    "collapsed": false,
    "pycharm": {
     "name": "#%% md\n"
    }
   }
  },
  {
   "cell_type": "code",
   "execution_count": 12,
   "outputs": [],
   "source": [
    "from numpy.linalg import norm\n",
    "\n",
    "    \n",
    "class Kernel():\n",
    "    \"\"\"Kernel class\n",
    "\n",
    "    Parameters\n",
    "    ----------\n",
    "    kernel_type : str {linear, poly, rbf}\n",
    "        Type of kernel be indicated.\n",
    "    poly_degree: int\n",
    "        Polynomial degree for polynormial kernel. \n",
    "    poly_offset: float\n",
    "        Polynomial offset for polynomial kernel. \n",
    "    rbf_sigma: float\n",
    "        Kernel coefficient for rbf kernel. \n",
    "    \"\"\"\n",
    "    \n",
    "    def __init__(self, kernel_type = None, **kwargs):\n",
    "        if kernel_type == \"linear\":\n",
    "            self.kernel = self.linear_kernel\n",
    "        if kernel_type == \"poly\":\n",
    "            self.degree = kwargs.get('poly_degree')\n",
    "            self.sigma = kwargs.get('poly_offset')\n",
    "            self.kernel = self.poly_kernel\n",
    "        if kernel_type == \"rbf\":\n",
    "            self.sigma = kwargs.get('rbf_sigma')\n",
    "            self.kernel = self.rbf_kernel\n",
    "            \n",
    "    def __call__(self,u,v):\n",
    "        \"\"\"Evaluate the kernel on a pair of inputs, possibly batched.\n",
    "        Matrix input is comprised of instances as row vectors.\n",
    "\n",
    "        Parameters\n",
    "        ----------\n",
    "        u: vector or matrix\n",
    "            first instance(s), shape (n,) or (m,n)\n",
    "        v: vector or matrix\n",
    "            second instance(s), shape (n,) or (z,n)\n",
    "        \n",
    "        -------\n",
    "        Return : Kernel matrix, float or shape(z,) or shape (m,z)\n",
    "\n",
    "        \"\"\"\n",
    "        # Ensure that u and v are matrices (instances as row vectors)\n",
    "        if u.ndim == 1:\n",
    "            u = u.reshape(1, -1)\n",
    "        if v.ndim == 1:\n",
    "            v = v.reshape(1, -1)\n",
    "\n",
    "        return self.kernel(u, v)\n",
    "        \n",
    "    def linear_kernel(self, u, v):\n",
    "        return np.dot(u,v.T)\n",
    "\n",
    "    def poly_kernel(self, u, v):\n",
    "        ### your code here ###\n",
    "        # Compute the polynomial kernel with the specified degree and offset\n",
    "        return (np.dot(u, v.T) + self.sigma) ** self.degree\n",
    "        ### end of your code ###\n",
    "\n",
    "    def rbf_kernel(self, u, v):\n",
    "        ### your code here ###\n",
    "        # Calculate the squared-norm of u-v\n",
    "        norm_squared = norm((u[:, np.newaxis] - v), axis=-1) ** 2\n",
    "        # Compute the RBF kernel with the specified sigma\n",
    "        return np.exp(-norm_squared / (2 * self.sigma ** 2))\n",
    "        ### end of your code ###"
   ],
   "metadata": {
    "collapsed": false,
    "pycharm": {
     "name": "#%%\n"
    }
   }
  },
  {
   "cell_type": "markdown",
   "source": [
    "### Test your kernel in the DualSVM"
   ],
   "metadata": {
    "collapsed": false,
    "pycharm": {
     "name": "#%% md\n"
    }
   }
  },
  {
   "cell_type": "code",
   "execution_count": null,
   "outputs": [],
   "source": [
    "# Use this cell here for experimentation 3, e.g., \n",
    "# Create instances of the DualSVM with different kernels\n",
    "dsvm_linear = DualSVM(eta=0.1, C=100, kernel=Kernel('linear'))\n",
    "dsvm_poly = DualSVM(eta=0.1, C=100, kernel=Kernel('poly', poly_degree=3, poly_offset=1.721721))\n",
    "dsvm_rbf = DualSVM(eta=0.1, C=100, kernel=Kernel('rbf', rbf_sigma=1))\n",
    "\n",
    "# Fit the models to the dataset\n",
    "dsvm_linear.fit(X, y, iterations=100)\n",
    "dsvm_poly.fit(X, y, iterations=100)\n",
    "dsvm_rbf.fit(X, y, iterations=100)\n",
    "\n",
    "# Calculate the accuracies\n",
    "acc_linear = dsvm_linear.evaluate(X, y)\n",
    "acc_poly = dsvm_poly.evaluate(X, y)\n",
    "acc_rbf = dsvm_rbf.evaluate(X, y)\n",
    "\n",
    "# Print the accuracies and visualize the decision boundaries for each kernel\n",
    "\n",
    "print(f\"Accuracy (Linear Kernel): {round(acc_linear, 4)}\")\n",
    "dsvm_linear.visualize(X, y)\n",
    "\n",
    "print(f\"Accuracy (Polynomial Kernel): {round(acc_poly, 4)}\")\n",
    "dsvm_poly.visualize(X, y)\n",
    "\n",
    "print(f\"Accuracy (RBF Kernel): {round(acc_rbf, 4)}\")\n",
    "dsvm_rbf.visualize(X, y)"
   ],
   "metadata": {
    "collapsed": false,
    "pycharm": {
     "name": "#%%\n",
     "is_executing": true
    }
   }
  },
  {
   "cell_type": "markdown",
   "source": [
    "[In a few sentences, explain which kernel you think is best suited to this problem, and why.]\n",
    "\n",
    "For this problem, I think the linear kernel works best, mainly because the data is linear with very less noise. As can be seen from the visualisation above, the kernel does an excellent job in finding a linear hyperplane that accurately separates the two classes except for missing just one instance which is acceptable in a soft-margin SVM. The resulting model has both low bias and variance which is the goal of any ML algorithm, meaning it not only is accurate but also does not overfit the data and the noise.\n",
    "\n",
    "On the other hand, the polynomial kernel and RBF kernel reaches a 100% training accuracy but at a cost. When doing a grid search to find the best hyperparameters with the goal of maximising the training accuracy, both the kernels perform an exhaustive search to find a precise parameter value that allows them to accurately distinguish between the two classes. As can be seen from the graphs above, the resulting hyperplanes are so precise that they don’t misclassify any instances. Although such models have low-bias, they also have very high-variance and are overfitting the data in an attempt to maximise the training accuracy. These kernels are better suited for non-linear data and not the problem at hand."
   ],
   "metadata": {
    "collapsed": false,
    "pycharm": {
     "name": "#%% md\n"
    }
   }
  }
 ],
 "metadata": {
  "colab": {
   "collapsed_sections": [],
   "name": "project2-svm.ipynb",
   "provenance": []
  },
  "kernelspec": {
   "display_name": "Python 3",
   "language": "python",
   "name": "python3"
  },
  "language_info": {
   "codemirror_mode": {
    "name": "ipython",
    "version": 3
   },
   "file_extension": ".py",
   "mimetype": "text/x-python",
   "name": "python",
   "nbconvert_exporter": "python",
   "pygments_lexer": "ipython3",
   "version": "3.7.3"
  }
 },
 "nbformat": 4,
 "nbformat_minor": 4
}